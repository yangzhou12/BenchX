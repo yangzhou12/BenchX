{
 "cells": [
  {
   "cell_type": "markdown",
   "metadata": {},
   "source": [
    "# SIIM Pneumothorax Pre-processing Steps"
   ]
  },
  {
   "cell_type": "markdown",
   "metadata": {},
   "source": [
    "## Import Data"
   ]
  },
  {
   "cell_type": "code",
   "execution_count": 4,
   "metadata": {},
   "outputs": [
    {
     "data": {
      "text/html": [
       "<div>\n",
       "<style scoped>\n",
       "    .dataframe tbody tr th:only-of-type {\n",
       "        vertical-align: middle;\n",
       "    }\n",
       "\n",
       "    .dataframe tbody tr th {\n",
       "        vertical-align: top;\n",
       "    }\n",
       "\n",
       "    .dataframe thead th {\n",
       "        text-align: right;\n",
       "    }\n",
       "</style>\n",
       "<table border=\"1\" class=\"dataframe\">\n",
       "  <thead>\n",
       "    <tr style=\"text-align: right;\">\n",
       "      <th></th>\n",
       "      <th>ImageId</th>\n",
       "      <th>EncodedPixels</th>\n",
       "    </tr>\n",
       "  </thead>\n",
       "  <tbody>\n",
       "    <tr>\n",
       "      <th>0</th>\n",
       "      <td>1.2.276.0.7230010.3.1.4.8323329.5597.151787518...</td>\n",
       "      <td>-1</td>\n",
       "    </tr>\n",
       "    <tr>\n",
       "      <th>1</th>\n",
       "      <td>1.2.276.0.7230010.3.1.4.8323329.12515.15178752...</td>\n",
       "      <td>-1</td>\n",
       "    </tr>\n",
       "    <tr>\n",
       "      <th>2</th>\n",
       "      <td>1.2.276.0.7230010.3.1.4.8323329.4904.151787518...</td>\n",
       "      <td>175349 7 1013 12 1009 17 1005 19 1003 20 1002...</td>\n",
       "    </tr>\n",
       "    <tr>\n",
       "      <th>3</th>\n",
       "      <td>1.2.276.0.7230010.3.1.4.8323329.32579.15178751...</td>\n",
       "      <td>407576 2 1021 7 1015 10 1013 12 1011 14 1008 ...</td>\n",
       "    </tr>\n",
       "    <tr>\n",
       "      <th>4</th>\n",
       "      <td>1.2.276.0.7230010.3.1.4.8323329.32579.15178751...</td>\n",
       "      <td>252069 1 1021 3 1020 4 1018 5 1018 6 1016 7 1...</td>\n",
       "    </tr>\n",
       "  </tbody>\n",
       "</table>\n",
       "</div>"
      ],
      "text/plain": [
       "                                             ImageId  \\\n",
       "0  1.2.276.0.7230010.3.1.4.8323329.5597.151787518...   \n",
       "1  1.2.276.0.7230010.3.1.4.8323329.12515.15178752...   \n",
       "2  1.2.276.0.7230010.3.1.4.8323329.4904.151787518...   \n",
       "3  1.2.276.0.7230010.3.1.4.8323329.32579.15178751...   \n",
       "4  1.2.276.0.7230010.3.1.4.8323329.32579.15178751...   \n",
       "\n",
       "                                       EncodedPixels  \n",
       "0                                                 -1  \n",
       "1                                                 -1  \n",
       "2   175349 7 1013 12 1009 17 1005 19 1003 20 1002...  \n",
       "3   407576 2 1021 7 1015 10 1013 12 1011 14 1008 ...  \n",
       "4   252069 1 1021 3 1020 4 1018 5 1018 6 1016 7 1...  "
      ]
     },
     "execution_count": 4,
     "metadata": {},
     "output_type": "execute_result"
    }
   ],
   "source": [
    "import pandas as pd\n",
    "\n",
    "rle_csv = pd.read_csv('/home/faith/MVLM/siim-acr-pneumothorax/train-rle.csv')\n",
    "rle_csv.head()"
   ]
  },
  {
   "cell_type": "markdown",
   "metadata": {},
   "source": [
    "## Mask Functions"
   ]
  },
  {
   "cell_type": "code",
   "execution_count": 51,
   "metadata": {},
   "outputs": [],
   "source": [
    "import numpy as np\n",
    "\n",
    "def rle2mask(rle, width, height):\n",
    "    mask= np.zeros(width* height)\n",
    "    array = np.asarray([int(x) for x in rle.split()])\n",
    "    starts = array[0::2]\n",
    "    lengths = array[1::2]\n",
    "\n",
    "    current_position = 0\n",
    "    for index, start in enumerate(starts):\n",
    "        current_position += start\n",
    "        mask[current_position:current_position+lengths[index]] = 255\n",
    "        current_position += lengths[index]\n",
    "\n",
    "    return mask.reshape(width, height)\n",
    "\n",
    "# def mask2rle(img, width, height):\n",
    "#     rle = []\n",
    "#     lastColor = 0\n",
    "#     currentPixel = 0\n",
    "#     runStart = -1\n",
    "#     runLength = 0\n",
    "\n",
    "#     for x in range(width):\n",
    "#         for y in range(height):\n",
    "#             currentColor = img[x][y]\n",
    "#             if currentColor != lastColor:\n",
    "#                 if currentColor == 255:\n",
    "#                     runStart = currentPixel\n",
    "#                     runLength = 1\n",
    "#                 else:\n",
    "#                     rle.append(str(runStart))\n",
    "#                     rle.append(str(runLength))\n",
    "#                     runStart = -1\n",
    "#                     runLength = 0\n",
    "#                     currentPixel = 0\n",
    "#             elif runStart > -1:\n",
    "#                 runLength += 1\n",
    "#             lastColor = currentColor\n",
    "#             currentPixel+=1\n",
    "\n",
    "#     return \" \".join(rle)\n",
    "\n",
    "# More efficient implementation\n",
    "def mask2rle(img):\n",
    "    '''\n",
    "    Efficient implementation of mask2rle, from @paulorzp\n",
    "    --\n",
    "    img: numpy array, 1 - mask, 0 - background\n",
    "    Returns run length as string formated\n",
    "    Source: https://www.kaggle.com/xhlulu/efficient-mask2rle\n",
    "    '''\n",
    "    pixels = img.T.flatten()\n",
    "    pixels = np.pad(pixels, ((1, 1), ))\n",
    "    runs = np.where(pixels[1:] != pixels[:-1])[0] + 1\n",
    "    runs[1::2] -= runs[::2]\n",
    "    return ' '.join(str(x) for x in runs)"
   ]
  },
  {
   "cell_type": "markdown",
   "metadata": {},
   "source": [
    "## Split by ImageId"
   ]
  },
  {
   "cell_type": "code",
   "execution_count": 54,
   "metadata": {},
   "outputs": [
    {
     "name": "stderr",
     "output_type": "stream",
     "text": [
      "  0%|          | 0/10675 [00:00<?, ?it/s]"
     ]
    },
    {
     "name": "stderr",
     "output_type": "stream",
     "text": [
      "100%|██████████| 10675/10675 [01:07<00:00, 158.65it/s]\n"
     ]
    },
    {
     "data": {
      "text/html": [
       "<div>\n",
       "<style scoped>\n",
       "    .dataframe tbody tr th:only-of-type {\n",
       "        vertical-align: middle;\n",
       "    }\n",
       "\n",
       "    .dataframe tbody tr th {\n",
       "        vertical-align: top;\n",
       "    }\n",
       "\n",
       "    .dataframe thead th {\n",
       "        text-align: right;\n",
       "    }\n",
       "</style>\n",
       "<table border=\"1\" class=\"dataframe\">\n",
       "  <thead>\n",
       "    <tr style=\"text-align: right;\">\n",
       "      <th></th>\n",
       "      <th>ImageId</th>\n",
       "      <th>rle_masks</th>\n",
       "    </tr>\n",
       "  </thead>\n",
       "  <tbody>\n",
       "    <tr>\n",
       "      <th>0</th>\n",
       "      <td>1.2.276.0.7230010.3.1.4.8323329.1000.151787516...</td>\n",
       "      <td></td>\n",
       "    </tr>\n",
       "    <tr>\n",
       "      <th>1</th>\n",
       "      <td>1.2.276.0.7230010.3.1.4.8323329.10000.15178752...</td>\n",
       "      <td></td>\n",
       "    </tr>\n",
       "    <tr>\n",
       "      <th>2</th>\n",
       "      <td>1.2.276.0.7230010.3.1.4.8323329.10001.15178752...</td>\n",
       "      <td></td>\n",
       "    </tr>\n",
       "    <tr>\n",
       "      <th>3</th>\n",
       "      <td>1.2.276.0.7230010.3.1.4.8323329.10002.15178752...</td>\n",
       "      <td></td>\n",
       "    </tr>\n",
       "    <tr>\n",
       "      <th>4</th>\n",
       "      <td>1.2.276.0.7230010.3.1.4.8323329.10003.15178752...</td>\n",
       "      <td></td>\n",
       "    </tr>\n",
       "  </tbody>\n",
       "</table>\n",
       "</div>"
      ],
      "text/plain": [
       "                                             ImageId rle_masks\n",
       "0  1.2.276.0.7230010.3.1.4.8323329.1000.151787516...          \n",
       "1  1.2.276.0.7230010.3.1.4.8323329.10000.15178752...          \n",
       "2  1.2.276.0.7230010.3.1.4.8323329.10001.15178752...          \n",
       "3  1.2.276.0.7230010.3.1.4.8323329.10002.15178752...          \n",
       "4  1.2.276.0.7230010.3.1.4.8323329.10003.15178752...          "
      ]
     },
     "execution_count": 54,
     "metadata": {},
     "output_type": "execute_result"
    }
   ],
   "source": [
    "from tqdm import tqdm\n",
    "\n",
    "tqdm.pandas()\n",
    "\n",
    "def collate_masks(row):\n",
    "    mask = np.zeros([1024, 1024])\n",
    "    for rle in row[' EncodedPixels']:\n",
    "        if rle != \" -1\":\n",
    "            mask += rle2mask(rle, 1024, 1024) \n",
    "    \n",
    "    mask = mask >= 1  # changes to binary mask\n",
    "    new_rle = mask2rle(mask)\n",
    "    \n",
    "    return new_rle\n",
    "\n",
    "combined_df = rle_csv.groupby(\"ImageId\").progress_apply(lambda x: collate_masks(x)).to_frame(name='rle_masks').reset_index()\n",
    "combined_df.head()"
   ]
  },
  {
   "cell_type": "code",
   "execution_count": 55,
   "metadata": {},
   "outputs": [
    {
     "data": {
      "text/html": [
       "<div>\n",
       "<style scoped>\n",
       "    .dataframe tbody tr th:only-of-type {\n",
       "        vertical-align: middle;\n",
       "    }\n",
       "\n",
       "    .dataframe tbody tr th {\n",
       "        vertical-align: top;\n",
       "    }\n",
       "\n",
       "    .dataframe thead th {\n",
       "        text-align: right;\n",
       "    }\n",
       "</style>\n",
       "<table border=\"1\" class=\"dataframe\">\n",
       "  <thead>\n",
       "    <tr style=\"text-align: right;\">\n",
       "      <th></th>\n",
       "      <th>ImageId</th>\n",
       "      <th>rle_masks</th>\n",
       "    </tr>\n",
       "  </thead>\n",
       "  <tbody>\n",
       "  </tbody>\n",
       "</table>\n",
       "</div>"
      ],
      "text/plain": [
       "Empty DataFrame\n",
       "Columns: [ImageId, rle_masks]\n",
       "Index: []"
      ]
     },
     "execution_count": 55,
     "metadata": {},
     "output_type": "execute_result"
    }
   ],
   "source": [
    "# Check there are no longer ImageId duplicates in the dataset\n",
    "combined_df[combined_df['ImageId'].duplicated()]"
   ]
  },
  {
   "cell_type": "code",
   "execution_count": 62,
   "metadata": {},
   "outputs": [
    {
     "name": "stdout",
     "output_type": "stream",
     "text": [
      "Number of positive samples: 2379\n",
      "Number of negative samples: 8296\n",
      "Positive to Negative sample proportion: 0.2867647058823529\n"
     ]
    }
   ],
   "source": [
    "num_positive_samples = len(combined_df[combined_df['rle_masks'] != \"\"])\n",
    "num_negative_samples = len(combined_df[combined_df['rle_masks'] == \"\"])\n",
    "\n",
    "print(\"Number of positive samples: {}\".format(num_positive_samples))\n",
    "print(\"Number of negative samples: {}\".format(num_negative_samples))\n",
    "print(\"Positive to Negative sample proportion: {}\".format(num_positive_samples/num_negative_samples))"
   ]
  },
  {
   "cell_type": "code",
   "execution_count": 105,
   "metadata": {},
   "outputs": [],
   "source": [
    "# Conduct a stratified split of 0.7:0.15:0.15 to preserve the label ratio\n",
    "from sklearn.model_selection import StratifiedShuffleSplit\n",
    "\n",
    "class_index = (combined_df['rle_masks'] != \"\").astype(int) # 1 - positive, 0 - negative\n",
    "sss = StratifiedShuffleSplit(n_splits=2, test_size=0.3, random_state=0)\n",
    "train_index, valtest_index = next(sss.split(combined_df, class_index))\n",
    "train_df = combined_df.iloc[train_index].copy()\n",
    "\n",
    "valtest_df = combined_df.iloc[valtest_index]\n",
    "class_index = (valtest_df['rle_masks'] != \"\").astype(int)\n",
    "sss = StratifiedShuffleSplit(n_splits=2, test_size=0.5, random_state=0)\n",
    "val_index, test_index = next(sss.split(valtest_df, class_index))\n",
    "val_df = valtest_df.iloc[val_index].copy()\n",
    "test_df = valtest_df.iloc[test_index].copy()"
   ]
  },
  {
   "cell_type": "code",
   "execution_count": 106,
   "metadata": {},
   "outputs": [
    {
     "name": "stdout",
     "output_type": "stream",
     "text": [
      "Train length: 7472\n",
      "Valid length: 1601\n",
      "Test length: 1602\n"
     ]
    }
   ],
   "source": [
    "print(\"Train length: {}\".format(len(train_df)))\n",
    "print(\"Valid length: {}\".format(len(val_df)))\n",
    "print(\"Test length: {}\".format(len(test_df)))"
   ]
  },
  {
   "cell_type": "code",
   "execution_count": 114,
   "metadata": {},
   "outputs": [
    {
     "data": {
      "text/html": [
       "<div>\n",
       "<style scoped>\n",
       "    .dataframe tbody tr th:only-of-type {\n",
       "        vertical-align: middle;\n",
       "    }\n",
       "\n",
       "    .dataframe tbody tr th {\n",
       "        vertical-align: top;\n",
       "    }\n",
       "\n",
       "    .dataframe thead th {\n",
       "        text-align: right;\n",
       "    }\n",
       "</style>\n",
       "<table border=\"1\" class=\"dataframe\">\n",
       "  <thead>\n",
       "    <tr style=\"text-align: right;\">\n",
       "      <th></th>\n",
       "      <th>ImageId</th>\n",
       "      <th>EncodedPixels</th>\n",
       "      <th>split</th>\n",
       "    </tr>\n",
       "  </thead>\n",
       "  <tbody>\n",
       "    <tr>\n",
       "      <th>0</th>\n",
       "      <td>1.2.276.0.7230010.3.1.4.8323329.3440.151787517...</td>\n",
       "      <td>-1</td>\n",
       "      <td>train</td>\n",
       "    </tr>\n",
       "    <tr>\n",
       "      <th>1</th>\n",
       "      <td>1.2.276.0.7230010.3.1.4.8323329.1195.151787516...</td>\n",
       "      <td>-1</td>\n",
       "      <td>train</td>\n",
       "    </tr>\n",
       "    <tr>\n",
       "      <th>2</th>\n",
       "      <td>1.2.276.0.7230010.3.1.4.8323329.1755.151787516...</td>\n",
       "      <td>23977 19 24998 25 26019 31 27038 37 28056 45 2...</td>\n",
       "      <td>train</td>\n",
       "    </tr>\n",
       "    <tr>\n",
       "      <th>3</th>\n",
       "      <td>1.2.276.0.7230010.3.1.4.8323329.13713.15178752...</td>\n",
       "      <td>-1</td>\n",
       "      <td>train</td>\n",
       "    </tr>\n",
       "    <tr>\n",
       "      <th>4</th>\n",
       "      <td>1.2.276.0.7230010.3.1.4.8323329.3901.151787518...</td>\n",
       "      <td>-1</td>\n",
       "      <td>train</td>\n",
       "    </tr>\n",
       "  </tbody>\n",
       "</table>\n",
       "</div>"
      ],
      "text/plain": [
       "                                             ImageId  \\\n",
       "0  1.2.276.0.7230010.3.1.4.8323329.3440.151787517...   \n",
       "1  1.2.276.0.7230010.3.1.4.8323329.1195.151787516...   \n",
       "2  1.2.276.0.7230010.3.1.4.8323329.1755.151787516...   \n",
       "3  1.2.276.0.7230010.3.1.4.8323329.13713.15178752...   \n",
       "4  1.2.276.0.7230010.3.1.4.8323329.3901.151787518...   \n",
       "\n",
       "                                       EncodedPixels  split  \n",
       "0                                                 -1  train  \n",
       "1                                                 -1  train  \n",
       "2  23977 19 24998 25 26019 31 27038 37 28056 45 2...  train  \n",
       "3                                                 -1  train  \n",
       "4                                                 -1  train  "
      ]
     },
     "execution_count": 114,
     "metadata": {},
     "output_type": "execute_result"
    }
   ],
   "source": [
    "train_df['split'] = 'train'\n",
    "val_df['split'] = 'valid'\n",
    "test_df['split'] = 'test'\n",
    "\n",
    "# Concatenate train, valid and test splits\n",
    "final_df = pd.concat([train_df, val_df, test_df], axis=0)\n",
    "\n",
    "# As per original convention, replace the rle_masks value of images with no masks with \" -1\"\n",
    "final_df[\"rle_masks\"] = final_df[\"rle_masks\"].replace(\"\", \" -1\")\n",
    "\n",
    "# Rename rle_masks to \" EncodedPixels\"\n",
    "final_df = final_df.rename(columns={\"rle_masks\": \" EncodedPixels\"}).reset_index(drop=True)\n",
    "final_df.head()"
   ]
  },
  {
   "cell_type": "markdown",
   "metadata": {},
   "source": [
    "## Run checks"
   ]
  },
  {
   "cell_type": "code",
   "execution_count": 115,
   "metadata": {},
   "outputs": [
    {
     "data": {
      "text/html": [
       "<div>\n",
       "<style scoped>\n",
       "    .dataframe tbody tr th:only-of-type {\n",
       "        vertical-align: middle;\n",
       "    }\n",
       "\n",
       "    .dataframe tbody tr th {\n",
       "        vertical-align: top;\n",
       "    }\n",
       "\n",
       "    .dataframe thead th {\n",
       "        text-align: right;\n",
       "    }\n",
       "</style>\n",
       "<table border=\"1\" class=\"dataframe\">\n",
       "  <thead>\n",
       "    <tr style=\"text-align: right;\">\n",
       "      <th></th>\n",
       "      <th>ImageId</th>\n",
       "      <th>EncodedPixels</th>\n",
       "      <th>split</th>\n",
       "    </tr>\n",
       "  </thead>\n",
       "  <tbody>\n",
       "    <tr>\n",
       "      <th>count</th>\n",
       "      <td>10675</td>\n",
       "      <td>10675</td>\n",
       "      <td>10675</td>\n",
       "    </tr>\n",
       "    <tr>\n",
       "      <th>unique</th>\n",
       "      <td>10675</td>\n",
       "      <td>2380</td>\n",
       "      <td>3</td>\n",
       "    </tr>\n",
       "    <tr>\n",
       "      <th>top</th>\n",
       "      <td>1.2.276.0.7230010.3.1.4.8323329.10353.15178752...</td>\n",
       "      <td>-1</td>\n",
       "      <td>train</td>\n",
       "    </tr>\n",
       "    <tr>\n",
       "      <th>freq</th>\n",
       "      <td>1</td>\n",
       "      <td>8296</td>\n",
       "      <td>7472</td>\n",
       "    </tr>\n",
       "  </tbody>\n",
       "</table>\n",
       "</div>"
      ],
      "text/plain": [
       "                                                  ImageId  EncodedPixels  \\\n",
       "count                                               10675          10675   \n",
       "unique                                              10675           2380   \n",
       "top     1.2.276.0.7230010.3.1.4.8323329.10353.15178752...             -1   \n",
       "freq                                                    1           8296   \n",
       "\n",
       "        split  \n",
       "count   10675  \n",
       "unique      3  \n",
       "top     train  \n",
       "freq     7472  "
      ]
     },
     "execution_count": 115,
     "metadata": {},
     "output_type": "execute_result"
    }
   ],
   "source": [
    "# Description of final DataFrame\n",
    "final_df.describe()"
   ]
  },
  {
   "cell_type": "code",
   "execution_count": 116,
   "metadata": {},
   "outputs": [
    {
     "data": {
      "text/plain": [
       "split\n",
       "train    7472\n",
       "test     1602\n",
       "valid    1601\n",
       "Name: count, dtype: int64"
      ]
     },
     "execution_count": 116,
     "metadata": {},
     "output_type": "execute_result"
    }
   ],
   "source": [
    "# Number of train, valid and test samples\n",
    "final_df[\"split\"].value_counts()"
   ]
  },
  {
   "cell_type": "code",
   "execution_count": 121,
   "metadata": {},
   "outputs": [
    {
     "data": {
      "text/html": [
       "<div>\n",
       "<style scoped>\n",
       "    .dataframe tbody tr th:only-of-type {\n",
       "        vertical-align: middle;\n",
       "    }\n",
       "\n",
       "    .dataframe tbody tr th {\n",
       "        vertical-align: top;\n",
       "    }\n",
       "\n",
       "    .dataframe thead th {\n",
       "        text-align: right;\n",
       "    }\n",
       "</style>\n",
       "<table border=\"1\" class=\"dataframe\">\n",
       "  <thead>\n",
       "    <tr style=\"text-align: right;\">\n",
       "      <th></th>\n",
       "      <th>ImageId</th>\n",
       "      <th>EncodedPixels</th>\n",
       "      <th>split</th>\n",
       "    </tr>\n",
       "  </thead>\n",
       "  <tbody>\n",
       "    <tr>\n",
       "      <th>0</th>\n",
       "      <td>1.2.276.0.7230010.3.1.4.8323329.3440.151787517...</td>\n",
       "      <td>-1</td>\n",
       "      <td>train</td>\n",
       "    </tr>\n",
       "    <tr>\n",
       "      <th>1</th>\n",
       "      <td>1.2.276.0.7230010.3.1.4.8323329.1195.151787516...</td>\n",
       "      <td>-1</td>\n",
       "      <td>train</td>\n",
       "    </tr>\n",
       "    <tr>\n",
       "      <th>2</th>\n",
       "      <td>1.2.276.0.7230010.3.1.4.8323329.1755.151787516...</td>\n",
       "      <td>23977 19 24998 25 26019 31 27038 37 28056 45 2...</td>\n",
       "      <td>train</td>\n",
       "    </tr>\n",
       "    <tr>\n",
       "      <th>3</th>\n",
       "      <td>1.2.276.0.7230010.3.1.4.8323329.13713.15178752...</td>\n",
       "      <td>-1</td>\n",
       "      <td>train</td>\n",
       "    </tr>\n",
       "    <tr>\n",
       "      <th>4</th>\n",
       "      <td>1.2.276.0.7230010.3.1.4.8323329.3901.151787518...</td>\n",
       "      <td>-1</td>\n",
       "      <td>train</td>\n",
       "    </tr>\n",
       "  </tbody>\n",
       "</table>\n",
       "</div>"
      ],
      "text/plain": [
       "                                             ImageId  \\\n",
       "0  1.2.276.0.7230010.3.1.4.8323329.3440.151787517...   \n",
       "1  1.2.276.0.7230010.3.1.4.8323329.1195.151787516...   \n",
       "2  1.2.276.0.7230010.3.1.4.8323329.1755.151787516...   \n",
       "3  1.2.276.0.7230010.3.1.4.8323329.13713.15178752...   \n",
       "4  1.2.276.0.7230010.3.1.4.8323329.3901.151787518...   \n",
       "\n",
       "                                       EncodedPixels  split  \n",
       "0                                                 -1  train  \n",
       "1                                                 -1  train  \n",
       "2  23977 19 24998 25 26019 31 27038 37 28056 45 2...  train  \n",
       "3                                                 -1  train  \n",
       "4                                                 -1  train  "
      ]
     },
     "execution_count": 121,
     "metadata": {},
     "output_type": "execute_result"
    }
   ],
   "source": [
    "final_df.head()"
   ]
  },
  {
   "cell_type": "code",
   "execution_count": 130,
   "metadata": {},
   "outputs": [
    {
     "data": {
      "text/html": [
       "<div>\n",
       "<style scoped>\n",
       "    .dataframe tbody tr th:only-of-type {\n",
       "        vertical-align: middle;\n",
       "    }\n",
       "\n",
       "    .dataframe tbody tr th {\n",
       "        vertical-align: top;\n",
       "    }\n",
       "\n",
       "    .dataframe thead th {\n",
       "        text-align: right;\n",
       "    }\n",
       "</style>\n",
       "<table border=\"1\" class=\"dataframe\">\n",
       "  <thead>\n",
       "    <tr style=\"text-align: right;\">\n",
       "      <th></th>\n",
       "      <th></th>\n",
       "      <th>ImageId</th>\n",
       "    </tr>\n",
       "    <tr>\n",
       "      <th>split</th>\n",
       "      <th>class</th>\n",
       "      <th></th>\n",
       "    </tr>\n",
       "  </thead>\n",
       "  <tbody>\n",
       "    <tr>\n",
       "      <th rowspan=\"2\" valign=\"top\">test</th>\n",
       "      <th>0</th>\n",
       "      <td>1245</td>\n",
       "    </tr>\n",
       "    <tr>\n",
       "      <th>1</th>\n",
       "      <td>357</td>\n",
       "    </tr>\n",
       "    <tr>\n",
       "      <th rowspan=\"2\" valign=\"top\">train</th>\n",
       "      <th>0</th>\n",
       "      <td>5807</td>\n",
       "    </tr>\n",
       "    <tr>\n",
       "      <th>1</th>\n",
       "      <td>1665</td>\n",
       "    </tr>\n",
       "    <tr>\n",
       "      <th rowspan=\"2\" valign=\"top\">valid</th>\n",
       "      <th>0</th>\n",
       "      <td>1244</td>\n",
       "    </tr>\n",
       "    <tr>\n",
       "      <th>1</th>\n",
       "      <td>357</td>\n",
       "    </tr>\n",
       "  </tbody>\n",
       "</table>\n",
       "</div>"
      ],
      "text/plain": [
       "             ImageId\n",
       "split class         \n",
       "test  0         1245\n",
       "      1          357\n",
       "train 0         5807\n",
       "      1         1665\n",
       "valid 0         1244\n",
       "      1          357"
      ]
     },
     "execution_count": 130,
     "metadata": {},
     "output_type": "execute_result"
    }
   ],
   "source": [
    "# Number of positive/negative samples for each split\n",
    "filtered_df = final_df.copy()\n",
    "filtered_df['class'] = (filtered_df[' EncodedPixels'] != \" -1\").astype(int)\n",
    "filtered_df[['split', 'class', 'ImageId']].groupby(['split', 'class']).count()"
   ]
  },
  {
   "cell_type": "code",
   "execution_count": 102,
   "metadata": {},
   "outputs": [
    {
     "data": {
      "text/plain": [
       "False"
      ]
     },
     "execution_count": 102,
     "metadata": {},
     "output_type": "execute_result"
    }
   ],
   "source": [
    "# Verify that there is no data leakage from train set to other splits\n",
    "any([train_df['ImageId'].isin(val_df['ImageId']).any(), \\\n",
    "     train_df['ImageId'].isin(test_df['ImageId']).any()])"
   ]
  },
  {
   "cell_type": "code",
   "execution_count": 100,
   "metadata": {},
   "outputs": [
    {
     "data": {
      "text/plain": [
       "False"
      ]
     },
     "execution_count": 100,
     "metadata": {},
     "output_type": "execute_result"
    }
   ],
   "source": [
    "# Verify that there is no data leakage from valid set to other splits\n",
    "any([val_df['ImageId'].isin(train_df['ImageId']).any(), \\\n",
    "     val_df['ImageId'].isin(test_df['ImageId']).any()])"
   ]
  },
  {
   "cell_type": "code",
   "execution_count": 101,
   "metadata": {},
   "outputs": [
    {
     "data": {
      "text/plain": [
       "False"
      ]
     },
     "execution_count": 101,
     "metadata": {},
     "output_type": "execute_result"
    }
   ],
   "source": [
    "# Verify that there is no data leakage from test set to other splits\n",
    "any([test_df['ImageId'].isin(train_df['ImageId']).any(), \\\n",
    "     test_df['ImageId'].isin(val_df['ImageId']).any()])"
   ]
  }
 ],
 "metadata": {
  "kernelspec": {
   "display_name": "unified-framework",
   "language": "python",
   "name": "python3"
  },
  "language_info": {
   "codemirror_mode": {
    "name": "ipython",
    "version": 3
   },
   "file_extension": ".py",
   "mimetype": "text/x-python",
   "name": "python",
   "nbconvert_exporter": "python",
   "pygments_lexer": "ipython3",
   "version": "3.11.4"
  }
 },
 "nbformat": 4,
 "nbformat_minor": 2
}
