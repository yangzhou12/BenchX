{
 "cells": [
  {
   "cell_type": "markdown",
   "metadata": {},
   "source": [
    "<h1>Demo Notebook: Datasets</h1>"
   ]
  },
  {
   "cell_type": "markdown",
   "metadata": {},
   "source": [
    "## MIMIC-CXR-JPG Dataset"
   ]
  },
  {
   "cell_type": "code",
   "execution_count": 5,
   "metadata": {},
   "outputs": [],
   "source": [
    "from unifier.datasets.datasets import MIMIC_Dataset\n",
    "from unifier.datasets.transforms import DataTransforms"
   ]
  },
  {
   "cell_type": "code",
   "execution_count": 6,
   "metadata": {},
   "outputs": [],
   "source": [
    "transform = DataTransforms()\n",
    "\n",
    "d_kaggle = MIMIC_Dataset(imgpath=\"/home/faith/MVLM/mimic_512/files\",\n",
    "                                metacsvpath='/home/faith/MVLM/mimic_512/mimic-cxr-2.0.0-metadata.csv',\n",
    "                                transform=transform,\n",
    "                                views=[\"PA\", \"AP\"],\n",
    "                                section=\"impression\") # might take some time to run if section argument is specified \n",
    "                                                      # for the first time"
   ]
  },
  {
   "cell_type": "code",
   "execution_count": 7,
   "metadata": {},
   "outputs": [
    {
     "name": "stdout",
     "output_type": "stream",
     "text": [
      "{'Atelectasis': {0.0: 102004, 1.0: 22470},\n",
      " 'Cardiomegaly': {0.0: 106412, 1.0: 21146},\n",
      " 'Consolidation': {0.0: 122511, 1.0: 5628},\n",
      " 'Edema': {0.0: 108633, 1.0: 14600},\n",
      " 'Effusion': {0.0: 100027, 1.0: 27243},\n",
      " 'Enlarged Cardiomediastinum': {0.0: 123573, 1.0: 3374},\n",
      " 'Fracture': {0.0: 127613, 1.0: 2307},\n",
      " 'Lung Lesion': {0.0: 126273, 1.0: 3369},\n",
      " 'Lung Opacity': {0.0: 102744, 1.0: 25597},\n",
      " 'Pleural Other': {0.0: 128903, 1.0: 973},\n",
      " 'Pneumonia': {0.0: 110831, 1.0: 8724},\n",
      " 'Pneumothorax': {0.0: 124556, 1.0: 5223},\n",
      " 'Support Devices': {0.0: 103926, 1.0: 26233}}\n"
     ]
    },
    {
     "data": {
      "text/plain": [
       "MIMIC_Dataset num_samples=130266 views=['PA', 'AP'] transforms=['RandomResizedCrop', 'ToTensor', 'Normalize']"
      ]
     },
     "execution_count": 7,
     "metadata": {},
     "output_type": "execute_result"
    }
   ],
   "source": [
    "d_kaggle"
   ]
  },
  {
   "cell_type": "markdown",
   "metadata": {},
   "source": [
    "## RSNA Pneumonia Dataset"
   ]
  },
  {
   "cell_type": "code",
   "execution_count": 1,
   "metadata": {},
   "outputs": [],
   "source": [
    "from unifier.datasets.datasets import RSNA_Pneumonia_Dataset\n",
    "from unifier.datasets.transforms import SegmentationTransforms"
   ]
  },
  {
   "cell_type": "code",
   "execution_count": 12,
   "metadata": {},
   "outputs": [],
   "source": [
    "# initialize an instance of transform\n",
    "transform = SegmentationTransforms()\n",
    "\n",
    "d_kaggle = RSNA_Pneumonia_Dataset(imgpath=\"/VLM/rsna_pneumonia/stage_2_train_images\",\n",
    "                                       transform=transform,\n",
    "                                       views=[\"PA\", \"AP\"])"
   ]
  },
  {
   "cell_type": "code",
   "execution_count": 13,
   "metadata": {},
   "outputs": [
    {
     "name": "stdout",
     "output_type": "stream",
     "text": [
      "{'Lung Opacity': {0.0: 14451, 1.0: 4929}, 'Pneumonia': {0.0: 14451, 1.0: 4929}}\n"
     ]
    },
    {
     "data": {
      "text/plain": [
       "RSNA_Pneumonia_Dataset num_samples=19380 views=['PA', 'AP'] transforms=['ShiftScaleRotate', 'Resize', 'Normalize', 'ToTensorV2']"
      ]
     },
     "execution_count": 13,
     "metadata": {},
     "output_type": "execute_result"
    }
   ],
   "source": [
    "d_kaggle"
   ]
  },
  {
   "cell_type": "markdown",
   "metadata": {},
   "source": [
    "##  CheXpert-v1.0-small Dataset"
   ]
  },
  {
   "cell_type": "code",
   "execution_count": 1,
   "metadata": {},
   "outputs": [],
   "source": [
    "from unifier.datasets.datasets import CheX_Dataset\n",
    "from unifier.datasets.transforms import DataTransforms"
   ]
  },
  {
   "cell_type": "code",
   "execution_count": 2,
   "metadata": {},
   "outputs": [],
   "source": [
    "# initialize an instance of transform\n",
    "transform = DataTransforms()\n",
    "\n",
    "d_kaggle = CheX_Dataset(imgpath=\"/VLM/CheXpert-v1.0-small\",\n",
    "                                transform=transform,\n",
    "                                views=[\"PA\", \"AP\"])"
   ]
  },
  {
   "cell_type": "code",
   "execution_count": 3,
   "metadata": {},
   "outputs": [
    {
     "name": "stdout",
     "output_type": "stream",
     "text": [
      "{'Atelectasis': {0.0: 14309, 1.0: 12512},\n",
      " 'Cardiomegaly': {0.0: 17648, 1.0: 9078},\n",
      " 'Consolidation': {0.0: 22195, 1.0: 5374},\n",
      " 'Edema': {0.0: 20236, 1.0: 15214},\n",
      " 'Effusion': {0.0: 23116, 1.0: 20912},\n",
      " 'Enlarged Cardiomediastinum': {0.0: 20323, 1.0: 5208},\n",
      " 'Fracture': {0.0: 14935, 1.0: 4262},\n",
      " 'Lung Lesion': {0.0: 14411, 1.0: 4241},\n",
      " 'Lung Opacity': {0.0: 15538, 1.0: 31130},\n",
      " 'Pleural Other': {0.0: 14095, 1.0: 1570},\n",
      " 'Pneumonia': {0.0: 14758, 1.0: 2783},\n",
      " 'Pneumothorax': {0.0: 32562, 1.0: 4355},\n",
      " 'Support Devices': {0.0: 2174, 1.0: 33250}}\n"
     ]
    },
    {
     "data": {
      "text/plain": [
       "CheX_Dataset num_samples=64295 views=['PA', 'AP'] transforms=['RandomResizedCrop', 'ToTensor', 'Normalize']"
      ]
     },
     "execution_count": 3,
     "metadata": {},
     "output_type": "execute_result"
    }
   ],
   "source": [
    "d_kaggle"
   ]
  },
  {
   "cell_type": "markdown",
   "metadata": {},
   "source": [
    "##  SIIM-ACR Pneumothorax Dataset"
   ]
  },
  {
   "cell_type": "code",
   "execution_count": 1,
   "metadata": {},
   "outputs": [],
   "source": [
    "from unifier.datasets.datasets import SIIM_Pneumothorax_Dataset\n",
    "from unifier.datasets.transforms import SegmentationTransforms"
   ]
  },
  {
   "cell_type": "code",
   "execution_count": 7,
   "metadata": {},
   "outputs": [],
   "source": [
    "# initialize an instance of transform\n",
    "transform = SegmentationTransforms()\n",
    "\n",
    "d_kaggle = SIIM_Pneumothorax_Dataset(imgpath=\"/home/faith/MVLM/siim-acr-pneumothorax/dicom-images-train\",\n",
    "                                            transform=transform)"
   ]
  },
  {
   "cell_type": "code",
   "execution_count": 9,
   "metadata": {},
   "outputs": [
    {
     "name": "stdout",
     "output_type": "stream",
     "text": [
      "{'Pneumothorax': {0.0: 5796, 1.0: 2311}}\n"
     ]
    },
    {
     "data": {
      "text/plain": [
       "SIIM_Pneumothorax_Dataset num_samples=8107 transforms=['ShiftScaleRotate', 'Resize', 'Normalize', 'ToTensorV2']"
      ]
     },
     "execution_count": 9,
     "metadata": {},
     "output_type": "execute_result"
    }
   ],
   "source": [
    "d_kaggle"
   ]
  },
  {
   "cell_type": "markdown",
   "metadata": {},
   "source": [
    "## NIH Chest X-ray Dataset"
   ]
  },
  {
   "cell_type": "code",
   "execution_count": 4,
   "metadata": {},
   "outputs": [
    {
     "name": "stderr",
     "output_type": "stream",
     "text": [
      "/home/faith/miniconda3/envs/unified-framework/lib/python3.11/site-packages/tqdm/auto.py:21: TqdmWarning: IProgress not found. Please update jupyter and ipywidgets. See https://ipywidgets.readthedocs.io/en/stable/user_install.html\n",
      "  from .autonotebook import tqdm as notebook_tqdm\n"
     ]
    }
   ],
   "source": [
    "from unifier.datasets.datasets import NIH_Dataset\n",
    "from unifier.datasets.transforms import DataTransforms"
   ]
  },
  {
   "cell_type": "code",
   "execution_count": 5,
   "metadata": {},
   "outputs": [],
   "source": [
    "# initialize an instance of transform\n",
    "transform = DataTransforms()\n",
    "\n",
    "d_kaggle = NIH_Dataset(imgpath=\"/VLM/nih_chest_xray/all_classes\",\n",
    "                                transform=transform,\n",
    "                                views=[\"PA\", \"AP\"])"
   ]
  },
  {
   "cell_type": "code",
   "execution_count": 6,
   "metadata": {},
   "outputs": [
    {
     "name": "stdout",
     "output_type": "stream",
     "text": [
      "{'Atelectasis': {0.0: 23374, 1.0: 1815},\n",
      " 'Cardiomegaly': {0.0: 24573, 1.0: 616},\n",
      " 'Consolidation': {0.0: 24690, 1.0: 499},\n",
      " 'Edema': {0.0: 25013, 1.0: 176},\n",
      " 'Effusion': {0.0: 23560, 1.0: 1629},\n",
      " 'Emphysema': {0.0: 24891, 1.0: 298},\n",
      " 'Fibrosis': {0.0: 24742, 1.0: 447},\n",
      " 'Hernia': {0.0: 25136, 1.0: 53},\n",
      " 'Infiltration': {0.0: 22036, 1.0: 3153},\n",
      " 'Mass': {0.0: 24216, 1.0: 973},\n",
      " 'Nodule': {0.0: 23888, 1.0: 1301},\n",
      " 'Pleural_Thickening': {0.0: 24548, 1.0: 641},\n",
      " 'Pneumonia': {0.0: 25008, 1.0: 181},\n",
      " 'Pneumothorax': {0.0: 24739, 1.0: 450}}\n"
     ]
    },
    {
     "data": {
      "text/plain": [
       "NIH_Dataset num_samples=25189 views=['PA', 'AP'] transforms=['Resize', 'RandomCrop', 'RandomHorizontalFlip', 'ToTensor', 'Normalize']"
      ]
     },
     "execution_count": 6,
     "metadata": {},
     "output_type": "execute_result"
    }
   ],
   "source": [
    "d_kaggle"
   ]
  },
  {
   "cell_type": "markdown",
   "metadata": {},
   "source": [
    "## VQA-RAD Dataset"
   ]
  },
  {
   "cell_type": "code",
   "execution_count": 2,
   "metadata": {},
   "outputs": [],
   "source": [
    "from unifier.datasets.datasets import VQA_RAD_Dataset\n",
    "from unifier.datasets.transforms import DataTransforms"
   ]
  },
  {
   "cell_type": "code",
   "execution_count": 3,
   "metadata": {},
   "outputs": [
    {
     "name": "stderr",
     "output_type": "stream",
     "text": [
      "100%|██████████| 3515/3515 [00:00<00:00, 2621440.00it/s]\n"
     ]
    },
    {
     "name": "stderr",
     "output_type": "stream",
     "text": [
      "100%|██████████| 3515/3515 [00:00<00:00, 45148.11it/s]"
     ]
    },
    {
     "name": "stdout",
     "output_type": "stream",
     "text": [
      "Label size (VQA-RAD): 498\n"
     ]
    },
    {
     "name": "stderr",
     "output_type": "stream",
     "text": [
      "\n"
     ]
    }
   ],
   "source": [
    "# initialize an instance of transform\n",
    "transform = DataTransforms()\n",
    "\n",
    "d_kaggle = VQA_RAD_Dataset(imgpath=\"/home/faith/MVLM/VQA_RAD/VQA_RAD_Image_Folder\",\n",
    "                                transform=transform)"
   ]
  },
  {
   "cell_type": "code",
   "execution_count": 4,
   "metadata": {},
   "outputs": [
    {
     "name": "stdout",
     "output_type": "stream",
     "text": [
      "{'1': {32.0: 1},\n",
      " '10 20 minutes': {117.0: 1},\n",
      " '12': {457.0: 1},\n",
      " '2': {294.0: 1},\n",
      " '2.5cm x 1.7cm x 1.6cm': {320.0: 1},\n",
      " '3.4 cm': {188.0: 1},\n",
      " '3rd rib': {149.0: 1},\n",
      " '4': {279.0: 1},\n",
      " '4th and 5th': {56.0: 1},\n",
      " '4th ventricle': {144.0: 1},\n",
      " '5 cm': {60.0: 1},\n",
      " '5%': {431.0: 1},\n",
      " '5.6cm focal predominantly hypodense': {352.0: 1},\n",
      " '5cm': {284.0: 1},\n",
      " '5mm': {303.0: 1},\n",
      " '6.5 x 6.2 x 8.8cm': {282.0: 1},\n",
      " '7th rib': {81.0: 1},\n",
      " 'abcess': {390.0: 1},\n",
      " 'abdomen': {152.0: 1},\n",
      " 'abdomen and pelvis': {232.0: 1},\n",
      " 'abdominal pain': {417.0: 1},\n",
      " 'abnormal hyperintensity in right occipital lobe': {368.0: 1},\n",
      " 'above': {54.0: 1},\n",
      " 'above clavicles bilaterally': {75.0: 1},\n",
      " 'abscess': {41.0: 1},\n",
      " 'acute stroke': {280.0: 1},\n",
      " 'adenopathy': {428.0: 1},\n",
      " 'adjacent to appendix': {360.0: 1},\n",
      " 'adjacent to vertebrae': {271.0: 1},\n",
      " 'air': {148.0: 1},\n",
      " 'air fluid level': {211.0: 1},\n",
      " 'all 3 vascular distributions': {364.0: 1},\n",
      " 'almost entire right side': {287.0: 1},\n",
      " 'anterior cerebrum': {257.0: 1},\n",
      " 'anterior mediastinum': {86.0: 1},\n",
      " 'anterior surface': {258.0: 1},\n",
      " 'anterior to transverse colon': {126.0: 1},\n",
      " 'aorta': {161.0: 1},\n",
      " 'aorta and inferior vena cava': {162.0: 1},\n",
      " 'aorta enhancement': {394.0: 1},\n",
      " 'aorta is bright': {397.0: 1},\n",
      " 'ap': {324.0: 1},\n",
      " 'appendix': {345.0: 1},\n",
      " 'ascending colon': {285.0: 1},\n",
      " 'ascites': {259.0: 1},\n",
      " 'asymmetric': {11.0: 1},\n",
      " 'atherosclerotic calcification': {26.0: 1},\n",
      " 'axial': {10.0: 1},\n",
      " 'basal ganglia': {50.0: 1},\n",
      " 'basal ganglia caudate and putamen': {434.0: 1},\n",
      " 'basal ganglia cerebellum cerebral cortex': {307.0: 1},\n",
      " 'base': {335.0: 1},\n",
      " 'basilar artery': {194.0: 1},\n",
      " 'basilar artery thrombosis': {315.0: 1},\n",
      " 'below 7th rib in right lung': {235.0: 1},\n",
      " 'biconvex': {382.0: 1},\n",
      " 'bilateral': {24.0: 1},\n",
      " 'bilateral cerebellum': {181.0: 1},\n",
      " 'bilateral frontal lobes': {241.0: 1},\n",
      " 'bilateral frontal lobes and body of corpus callosum': {251.0: 1},\n",
      " 'bilateral lungs': {312.0: 1},\n",
      " 'bilateral parietal lobes': {304.0: 1},\n",
      " 'bilateral pleural effusion': {433.0: 1},\n",
      " 'biopsy': {376.0: 1},\n",
      " 'bit': {107.0: 1},\n",
      " 'black': {300.0: 1},\n",
      " 'bleeding in right posteroinferior cerebellum': {203.0: 1},\n",
      " 'blind ending loop of bowel arising from cecum': {239.0: 1},\n",
      " 'blind loop syndrome': {238.0: 1},\n",
      " 'blunting of costophrenic angle loss of right hemidiaphragm and right heart border': {445.0: 1},\n",
      " 'both': {71.0: 1},\n",
      " 'both sides': {442.0: 1},\n",
      " 'bowel contents light up on image': {166.0: 1},\n",
      " 'brain': {8.0: 1},\n",
      " 'breasts': {296.0: 1},\n",
      " 'bronchiectasis': {391.0: 1},\n",
      " 'bullous lesion': {92.0: 1},\n",
      " 'c t ratio': {389.0: 1},\n",
      " 'calcification': {223.0: 1},\n",
      " 'calcifications': {98.0: 1},\n",
      " 'calcified atherosclerosis': {342.0: 1},\n",
      " 'cancer': {379.0: 1},\n",
      " 'cardiac region': {172.0: 1},\n",
      " 'cardiomegaly': {138.0: 1},\n",
      " 'cardiomegaly with pulmonary edema': {130.0: 1},\n",
      " 'cardiopulmonary': {435.0: 1},\n",
      " 'cardiovascular': {5.0: 1},\n",
      " 'cartilage is not well viewed by x rays': {208.0: 1},\n",
      " 'catheter': {403.0: 1},\n",
      " 'caudate putamen left parietal': {256.0: 1},\n",
      " 'cavum vergae': {350.0: 1},\n",
      " 'cecum': {132.0: 1},\n",
      " 'central hyperintensity and surrounding hypointensity': {351.0: 1},\n",
      " 'cerebellum': {185.0: 1},\n",
      " 'cerebrum and lateral ventricles': {366.0: 1},\n",
      " 'chest': {28.0: 1},\n",
      " 'chest radiograph': {326.0: 1},\n",
      " 'chest x ray': {9.0: 1},\n",
      " 'chest xray': {168.0: 1},\n",
      " 'choroid plexus': {207.0: 1},\n",
      " 'chronic sinusitis vs hemorrhage': {305.0: 1},\n",
      " 'cirrhosis': {25.0: 1},\n",
      " 'cns': {131.0: 1},\n",
      " 'concave': {401.0: 1},\n",
      " 'congenital developmental disorder history of surgery and past manipulation': {174.0: 1},\n",
      " 'contrast': {102.0: 1},\n",
      " 'contrast ct with gi and iv contrast': {156.0: 1},\n",
      " 'contrast in intestines': {97.0: 1},\n",
      " 'coronal': {135.0: 1},\n",
      " 'cortical ribbon of right occipital lobe with extension into right posterior temporal lobe': {454.0: 1},\n",
      " 'costophrenic angle blunting': {395.0: 1},\n",
      " 'crescent': {400.0: 1},\n",
      " 'csf is brightly lit': {393.0: 1},\n",
      " 'csf is white': {179.0: 1},\n",
      " 'ct': {18.0: 1},\n",
      " 'ct with gi and iv contrast': {160.0: 1},\n",
      " 'cva': {407.0: 1},\n",
      " 'cxr': {134.0: 1},\n",
      " 'cystic': {302.0: 1},\n",
      " 'cystic duct is more tortuous': {420.0: 1},\n",
      " 'cystic lesions': {42.0: 1},\n",
      " 'decreased muscle bulk': {281.0: 1},\n",
      " 'descending colon': {269.0: 1},\n",
      " 'diffuse': {17.0: 1},\n",
      " 'diffusion weighted imaging dwi': {155.0: 1},\n",
      " 'distal basilar artery': {252.0: 1},\n",
      " 'diverticuli': {338.0: 1},\n",
      " 'diverticulitis': {247.0: 1},\n",
      " 'double arch': {297.0: 1},\n",
      " 'dwi': {197.0: 1},\n",
      " 'edematous': {84.0: 1},\n",
      " 'elliptical': {224.0: 1},\n",
      " 'embolus': {453.0: 1},\n",
      " 'emphysema': {298.0: 1},\n",
      " 'enhancement of vessels': {398.0: 1},\n",
      " 'enlarged': {30.0: 1},\n",
      " 'enlarged fluid filled': {45.0: 1},\n",
      " 'epidural hematoma': {384.0: 1},\n",
      " 'exophytic cyst': {450.0: 1},\n",
      " 'exterior': {443.0: 1},\n",
      " 'extra axial and at right choroidal fissure': {35.0: 1},\n",
      " 'extraluminal air and small fluid collection': {33.0: 1},\n",
      " 'extremities': {3.0: 1},\n",
      " 'fat': {123.0: 1},\n",
      " 'fat accumulations': {112.0: 1},\n",
      " 'fat stranding around appendix thickened appendiceal walls dilated appendix and appendicolith is seen as well': {145.0: 1},\n",
      " 'fatty infiltration': {265.0: 1},\n",
      " 'female': {116.0: 1},\n",
      " 'flair': {327.0: 1},\n",
      " 'flair mri': {141.0: 1},\n",
      " 'fluid': {288.0: 1},\n",
      " 'fluid in pleural space': {396.0: 1},\n",
      " 'free air': {13.0: 1},\n",
      " 'frontal and occipital': {306.0: 1},\n",
      " 'gadolinium': {317.0: 1},\n",
      " 'gallbladder': {205.0: 1},\n",
      " 'gallstones': {39.0: 1},\n",
      " 'gastrointestinal': {76.0: 1},\n",
      " 'genetic': {399.0: 1},\n",
      " 'gi': {15.0: 1},\n",
      " 'gray matter': {423.0: 1},\n",
      " 'haustra': {414.0: 1},\n",
      " 'head neck ct': {375.0: 1},\n",
      " 'head of pancreas': {140.0: 1},\n",
      " 'heart lungs': {68.0: 1},\n",
      " 'hemorrhage': {261.0: 1},\n",
      " 'hepatocellular carcioma': {347.0: 1},\n",
      " 'heterogeneous': {195.0: 1},\n",
      " 'high on image': {62.0: 1},\n",
      " 'hip bones': {274.0: 1},\n",
      " 'horsehoe kidney': {439.0: 1},\n",
      " 'hydrocephalus': {201.0: 1},\n",
      " 'hydropneumothorax': {313.0: 1},\n",
      " 'hyperintense': {245.0: 1},\n",
      " 'hyperintensity of left basal ganglia': {370.0: 1},\n",
      " 'hypodense': {21.0: 1},\n",
      " 'hypodense lesion': {14.0: 1},\n",
      " 'hypointense': {322.0: 1},\n",
      " 'hypoxic ischemic injury': {230.0: 1},\n",
      " 'if heart diameter is greater than half diameter of thoracic cavity': {388.0: 1},\n",
      " 'imagine patient is laying down and you are looking from feet': {165.0: 1},\n",
      " 'imaging artifacts': {101.0: 1},\n",
      " 'in bowel': {316.0: 1},\n",
      " 'in bowels': {309.0: 1},\n",
      " 'in cortex and basal ganglia bilaterally': {408.0: 1},\n",
      " 'in midline': {319.0: 1},\n",
      " 'in right hilum': {95.0: 1},\n",
      " 'in thorasic aorta': {78.0: 1},\n",
      " 'in vasculature': {289.0: 1},\n",
      " 'increased opacity in left retrocardiac region': {446.0: 1},\n",
      " 'infarct': {173.0: 1},\n",
      " 'infarcted areas': {110.0: 1},\n",
      " 'infarcts': {452.0: 1},\n",
      " 'infection': {429.0: 1},\n",
      " 'infiltrative': {456.0: 1},\n",
      " 'intestine': {212.0: 1},\n",
      " 'irregular': {455.0: 1},\n",
      " 'ischemia': {52.0: 1},\n",
      " 'isointense': {244.0: 1},\n",
      " 'it is enlarged with prominence of aortic knob': {448.0: 1},\n",
      " 'it is less than half width of thorax': {69.0: 1},\n",
      " 'it is shifted to right': {105.0: 1},\n",
      " 'iv contrast': {246.0: 1},\n",
      " 'ivc': {167.0: 1},\n",
      " 'jejunum': {266.0: 1},\n",
      " 'just 1': {111.0: 1},\n",
      " 'kidney cyst': {262.0: 1},\n",
      " 'kidneys': {66.0: 1},\n",
      " 'l2': {217.0: 1},\n",
      " 'l2 3': {218.0: 1},\n",
      " 'large bowel': {119.0: 1},\n",
      " 'lateral and third ventricular hydrocephalus': {233.0: 1},\n",
      " 'lateral film as well as pa': {219.0: 1},\n",
      " 'lateral ventricles': {114.0: 1},\n",
      " 'left': {82.0: 1},\n",
      " 'left aca and mca': {255.0: 1},\n",
      " 'left apical pneumothorax': {136.0: 1},\n",
      " 'left cerebellum': {204.0: 1},\n",
      " 'left costophrenic angle is blunted': {157.0: 1},\n",
      " 'left hemisphere': {88.0: 1},\n",
      " 'left hepatic lobe': {22.0: 1},\n",
      " 'left kidney': {70.0: 1},\n",
      " 'left lateral aspect of anterior peritoneum': {142.0: 1},\n",
      " 'left lobe mass 1.5 x 1.8 cm': {409.0: 1},\n",
      " 'left lung': {83.0: 1},\n",
      " 'left mca': {361.0: 1},\n",
      " 'left mid lung': {143.0: 1},\n",
      " 'left occipital lobe': {159.0: 1},\n",
      " 'left parietal lobe': {182.0: 1},\n",
      " 'left rectus abdominus': {249.0: 1},\n",
      " 'left side': {64.0: 1},\n",
      " 'left temporal horn': {226.0: 1},\n",
      " 'left temporal lobe': {4.0: 1},\n",
      " 'left thalamus': {357.0: 1},\n",
      " 'left thalamus and basal ganglia': {191.0: 1},\n",
      " 'left upper lobe': {99.0: 1},\n",
      " 'lentiform': {381.0: 1},\n",
      " 'less dense': {73.0: 1},\n",
      " 'less enhancement': {426.0: 1},\n",
      " 'less than half thorax': {58.0: 1},\n",
      " 'liver': {109.0: 1},\n",
      " 'location of contrast': {413.0: 1},\n",
      " 'loculated': {169.0: 1},\n",
      " 'loss of normal gray white matter junction': {231.0: 1},\n",
      " 'lower lung fields': {336.0: 1},\n",
      " 'lung': {100.0: 1},\n",
      " 'lung markings present all way laterally to ribs': {209.0: 1},\n",
      " 'lungs': {23.0: 1},\n",
      " 'lungs bony thoracic cavit y mediastinum and great vessels': {120.0: 1},\n",
      " 'man': {301.0: 1},\n",
      " 'mass': {133.0: 1},\n",
      " 'maxillary sinuses': {220.0: 1},\n",
      " 'maybe': {415.0: 1},\n",
      " 'medial and lateral rectus': {170.0: 1},\n",
      " 'medial rectus': {164.0: 1},\n",
      " 'medical process': {124.0: 1},\n",
      " 'mediport': {292.0: 1},\n",
      " 'metastases infection abcess glioblastoma': {377.0: 1},\n",
      " 'metastasis': {29.0: 1},\n",
      " 'micronodular': {248.0: 1},\n",
      " 'mid abdomen': {325.0: 1},\n",
      " 'middle mogul': {43.0: 1},\n",
      " 'midline': {295.0: 1},\n",
      " 'mixed intensity': {277.0: 1},\n",
      " 'moderate edema': {125.0: 1},\n",
      " 'more acute means more inflammation leading to enhancement': {425.0: 1},\n",
      " 'more dense': {72.0: 1},\n",
      " 'motion': {337.0: 1},\n",
      " 'motor weakness sensory deficits and left neglect': {405.0: 1},\n",
      " 'mr adc map': {267.0: 1},\n",
      " 'mr flair': {175.0: 1},\n",
      " 'mr t2 weighted': {264.0: 1},\n",
      " 'mri': {237.0: 1},\n",
      " 'mri diffusion weighted': {7.0: 1},\n",
      " 'mri dwi': {242.0: 1},\n",
      " 'mri flair': {254.0: 1},\n",
      " 'mri t1 weighted': {200.0: 1},\n",
      " 'mri t2 weighted': {340.0: 1},\n",
      " 'ms plaques': {362.0: 1},\n",
      " 'multilobulated': {275.0: 1},\n",
      " 'multiple sclerosis': {365.0: 1},\n",
      " 'nan': {59.0: 1},\n",
      " 'necrosis': {373.0: 1},\n",
      " 'necrotic tissue': {291.0: 1},\n",
      " 'nephroblastomatosis': {412.0: 1},\n",
      " 'nipple location': {250.0: 1},\n",
      " 'no': {1.0: 1},\n",
      " 'nodular opacities': {34.0: 1},\n",
      " 'nodules': {268.0: 1},\n",
      " 'non contrast': {343.0: 1},\n",
      " 'non contrast ct': {158.0: 1},\n",
      " 'non enhanced': {323.0: 1},\n",
      " 'normal': {333.0: 1},\n",
      " 'not seen here': {94.0: 1},\n",
      " 'not sure': {410.0: 1},\n",
      " 'nothing': {356.0: 1},\n",
      " 'nucleus pulposus': {460.0: 1},\n",
      " 'occipital lobe': {106.0: 1},\n",
      " 'oculomotor nerve cn iii and trigeminal nerves cn v': {192.0: 1},\n",
      " 'omental caking': {154.0: 1},\n",
      " 'on left': {278.0: 1},\n",
      " 'on right shoulder': {90.0: 1},\n",
      " 'on top of patient': {458.0: 1},\n",
      " 'oral and iv': {334.0: 1},\n",
      " 'outside': {444.0: 1},\n",
      " 'pa': {55.0: 1},\n",
      " 'pa xray': {193.0: 1},\n",
      " 'pacemaker': {91.0: 1},\n",
      " 'pancreas': {19.0: 1},\n",
      " 'pancreatic body': {46.0: 1},\n",
      " 'parasitic': {387.0: 1},\n",
      " 'paratracheal area': {430.0: 1},\n",
      " 'parietal and occipital lobes': {128.0: 1},\n",
      " 'partial silhouetting': {371.0: 1},\n",
      " 'periappendiceal fluid and fat stranding': {65.0: 1},\n",
      " 'pericholecystic fluid': {263.0: 1},\n",
      " 'peritoneum': {363.0: 1},\n",
      " 'pineal gland': {171.0: 1},\n",
      " 'pineal region': {240.0: 1},\n",
      " 'pituitary fossa': {411.0: 1},\n",
      " 'plain film xray': {310.0: 1},\n",
      " 'pleural effusion': {273.0: 1},\n",
      " 'pleural plaques': {418.0: 1},\n",
      " 'plicae circulares': {424.0: 1},\n",
      " 'pneumonia': {369.0: 1},\n",
      " 'pneumothorax': {441.0: 1},\n",
      " 'pons': {290.0: 1},\n",
      " 'portal vein': {354.0: 1},\n",
      " 'portal vein occlusion': {353.0: 1},\n",
      " 'posterior brain': {229.0: 1},\n",
      " 'posterior fossa': {330.0: 1},\n",
      " 'posterior horn of left lateral ventricle': {108.0: 1},\n",
      " 'posterior lung seen in image section': {440.0: 1},\n",
      " 'posterior to appendix': {80.0: 1},\n",
      " 'posterior to gastric antrum': {341.0: 1},\n",
      " 'posteriorly': {374.0: 1},\n",
      " 'posteroanterior': {103.0: 1},\n",
      " 'pres': {129.0: 1},\n",
      " 'prior surgery': {36.0: 1},\n",
      " 'proximal aspect of appendix': {359.0: 1},\n",
      " 'psoas major muscle': {339.0: 1},\n",
      " 'psoas muscles': {383.0: 1},\n",
      " 'pulmonary nodules': {12.0: 1},\n",
      " 'punctate': {348.0: 1},\n",
      " 'quadrantopia aphasia memory deficit etc': {404.0: 1},\n",
      " 'r frontal lobe': {177.0: 1},\n",
      " 'r hemidiaphragm': {286.0: 1},\n",
      " 'radiolucent': {321.0: 1},\n",
      " 'reduced sulci': {299.0: 1},\n",
      " 'respiratory cardia c musculoskeletal': {178.0: 1},\n",
      " 'respiratory system': {151.0: 1},\n",
      " 'retrocardiac': {234.0: 1},\n",
      " 'retroperitoneum retroperitoneal space': {121.0: 1},\n",
      " 'ribs': {206.0: 1},\n",
      " 'right': {40.0: 1},\n",
      " 'right cerebellopontine angle': {198.0: 1},\n",
      " 'right cerebellum': {176.0: 1},\n",
      " 'right colon': {243.0: 1},\n",
      " 'right convexity': {367.0: 1},\n",
      " 'right frontal lobe': {104.0: 1},\n",
      " 'right hemisphere': {48.0: 1},\n",
      " 'right kidney': {260.0: 1},\n",
      " 'right lateral ventricle': {196.0: 1},\n",
      " 'right lenticular nucleus': {147.0: 1},\n",
      " 'right lobe': {89.0: 1},\n",
      " 'right lobe of liver': {47.0: 1},\n",
      " 'right lower lateral lung field': {187.0: 1},\n",
      " 'right lower lobe': {77.0: 1},\n",
      " 'right lung': {44.0: 1},\n",
      " 'right lung base': {85.0: 1},\n",
      " 'right lung hilum': {87.0: 1},\n",
      " 'right mainstem bronchus is more in line with trachea than left': {210.0: 1},\n",
      " 'right mca': {402.0: 1},\n",
      " 'right of midline superior to right hilum': {318.0: 1},\n",
      " 'right paratracheal mass lesion': {447.0: 1},\n",
      " 'right parietal': {438.0: 1},\n",
      " 'right parietal lobe': {27.0: 1},\n",
      " 'right pca': {49.0: 1},\n",
      " 'right pica': {214.0: 1},\n",
      " 'right posteroinferior cerebellum': {202.0: 1},\n",
      " 'right side': {63.0: 1},\n",
      " 'right side of trachea': {228.0: 1},\n",
      " 'right sided aortic arch': {184.0: 1},\n",
      " 'right sided pleural effusion': {349.0: 1},\n",
      " 'right subclavian vein': {332.0: 1},\n",
      " 'right subdural hematoma': {344.0: 1},\n",
      " 'right superior cavoatrial junction': {51.0: 1},\n",
      " 'right sylvian fissure': {331.0: 1},\n",
      " 'right temporal lobe': {38.0: 1},\n",
      " 'right upper lobe': {20.0: 1},\n",
      " 'right vertebral artery sign': {283.0: 1},\n",
      " 'ring enhancing': {227.0: 1},\n",
      " 'ring enhancing lesion': {16.0: 1},\n",
      " 'ring enhancing lesion in left occipital lobe': {127.0: 1},\n",
      " 'ring enhancing lesion in right frontal lobe': {146.0: 1},\n",
      " 'ring enhancing lesions': {37.0: 1},\n",
      " 'rounded well defined pulmonary nodules varying in size and pattern': {432.0: 1},\n",
      " 'ruq pain jaundiceweight loss': {416.0: 1},\n",
      " 'sacroiliac joint': {221.0: 1},\n",
      " 'scoliosis': {113.0: 1},\n",
      " 'sella and suprasellar cistern': {189.0: 1},\n",
      " 'semi upright position': {436.0: 1},\n",
      " 'sharp costophrenic angles': {437.0: 1},\n",
      " 'short section irregular contour': {311.0: 1},\n",
      " 'shrunken and nodular': {451.0: 1},\n",
      " 'sigmoid flexture of colon': {328.0: 1},\n",
      " 'single lung nodule': {236.0: 1},\n",
      " 'sinusitis': {385.0: 1},\n",
      " 'small bowel': {67.0: 1},\n",
      " 'small subdural hematoma with cerebral edema': {358.0: 1},\n",
      " 'smooth': {225.0: 1},\n",
      " 'soft tissue mass in region of terminal ileum with mesenteric lymphadenopathy': {346.0: 1},\n",
      " 'solid': {115.0: 1},\n",
      " 'spleen': {272.0: 1},\n",
      " 'splenule': {372.0: 1},\n",
      " 'sternal wires': {183.0: 1},\n",
      " 'sternotomy wires and surgical clips': {139.0: 1},\n",
      " 'stomach': {314.0: 1},\n",
      " 'stomach bubble': {213.0: 1},\n",
      " 'stones cancer infection anatomic variants': {422.0: 1},\n",
      " 'subarachnoid': {163.0: 1},\n",
      " 'sulcal effacement': {215.0: 1},\n",
      " \"superficial to patient's skin\": {459.0: 1},\n",
      " 'superior': {61.0: 1},\n",
      " 'suprasellar': {253.0: 1},\n",
      " 'suprasellar cistern': {53.0: 1},\n",
      " 'surrounding tissue': {74.0: 1},\n",
      " 't2': {180.0: 1},\n",
      " 't2 weighted': {190.0: 1},\n",
      " 't5': {57.0: 1},\n",
      " 'temporal and lateral occipital lobes': {276.0: 1},\n",
      " 'temporal lobe': {216.0: 1},\n",
      " 'thalami left occipital lobe brainstem and left cerebellum': {270.0: 1},\n",
      " 'there is massive cerebral hemisphere edema': {355.0: 1},\n",
      " 'thickening of bronchi': {392.0: 1},\n",
      " 'toxoplasma lymphoma abscesses other brain tumors': {378.0: 1},\n",
      " 'trace gallbladder emptying': {419.0: 1},\n",
      " 'tumors gallstones': {421.0: 1},\n",
      " 'ultrasound': {2.0: 1},\n",
      " 'underneath right hemidiaphragm': {329.0: 1},\n",
      " 'upper lobes': {199.0: 1},\n",
      " 'upper right lobe': {96.0: 1},\n",
      " 'ureteral obstruction': {380.0: 1},\n",
      " 'varicocele': {222.0: 1},\n",
      " 'vascular': {137.0: 1},\n",
      " 'vasculature': {6.0: 1},\n",
      " 'viral': {386.0: 1},\n",
      " 'viral inflammatory': {406.0: 1},\n",
      " 'volume loss': {31.0: 1},\n",
      " 'well circumscribed': {449.0: 1},\n",
      " 'white matter': {118.0: 1},\n",
      " 'white matter plaques': {308.0: 1},\n",
      " 'white versus grey matter brightness': {427.0: 1},\n",
      " 'width of aorta': {79.0: 1},\n",
      " 'with contrast': {186.0: 1},\n",
      " 'x ray': {93.0: 1},\n",
      " 'x ray plain film': {150.0: 1},\n",
      " 'xray': {293.0: 1},\n",
      " 'xray plain film': {153.0: 1},\n",
      " 'yes': {0.0: 1},\n",
      " '~15 minutes potentially faster with newer imaging systems': {122.0: 1}}\n"
     ]
    },
    {
     "data": {
      "text/plain": [
       "VQA_RAD_Dataset num_samples=3064 views=None transforms=['RandomResizedCrop', 'ToTensor', 'Normalize']"
      ]
     },
     "execution_count": 4,
     "metadata": {},
     "output_type": "execute_result"
    }
   ],
   "source": [
    "d_kaggle"
   ]
  }
 ],
 "metadata": {
  "kernelspec": {
   "display_name": "unified-framework",
   "language": "python",
   "name": "python3"
  },
  "language_info": {
   "codemirror_mode": {
    "name": "ipython",
    "version": 3
   },
   "file_extension": ".py",
   "mimetype": "text/x-python",
   "name": "python",
   "nbconvert_exporter": "python",
   "pygments_lexer": "ipython3",
   "version": "3.11.4"
  }
 },
 "nbformat": 4,
 "nbformat_minor": 2
}
